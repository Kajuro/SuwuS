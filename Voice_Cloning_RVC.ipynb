{
  "nbformat": 4,
  "nbformat_minor": 0,
  "metadata": {
    "colab": {
      "provenance": [],
      "gpuType": "T4",
      "authorship_tag": "ABX9TyMlhS2VKmlzWgJMlIBy/mLO",
      "include_colab_link": true
    },
    "kernelspec": {
      "name": "python3",
      "display_name": "Python 3"
    },
    "language_info": {
      "name": "python"
    },
    "accelerator": "GPU"
  },
  "cells": [
    {
      "cell_type": "markdown",
      "metadata": {
        "id": "view-in-github",
        "colab_type": "text"
      },
      "source": [
        "<a href=\"https://colab.research.google.com/github/Kajuro/SuwuS/blob/main/Voice_Cloning_RVC.ipynb\" target=\"_parent\"><img src=\"https://colab.research.google.com/assets/colab-badge.svg\" alt=\"Open In Colab\"/></a>"
      ]
    },
    {
      "cell_type": "markdown",
      "source": [
        "**Colab переделан [Astymic](https://t.me/astymicm)**\n",
        "\n",
        "**Автор моделей: [Astymic](https://t.me/astymic)**"
      ],
      "metadata": {
        "id": "jk6Yo0khH_Qv"
      }
    },
    {
      "cell_type": "markdown",
      "source": [
        "Оригинальный колаб Kalomaze"
      ],
      "metadata": {
        "id": "Hh-paSX5Htwv"
      }
    },
    {
      "cell_type": "markdown",
      "source": [
        "##1. Установка + Подключете свой аккаунт Google - нажмите кнопку воспроизведения (необходимо выполнить только один раз за сеанс Colab)"
      ],
      "metadata": {
        "id": "F6zbsuNs6xZF"
      }
    },
    {
      "cell_type": "markdown",
      "source": [
        "[![Open In Colab](https://colab.research.google.com/assets/colab-badge.svg)](https://colab.research.google.com/github/liujing04/Retrieval-based-Voice-Conversion-WebUI/blob/main/Retrieval_based_Voice_Conversion_WebUI.ipynb)\n",
        "If you want to open the ORIGINAL Colab go here!"
      ],
      "metadata": {
        "id": "ZFFCx5J80SGa"
      }
    },
    {
      "cell_type": "code",
      "source": [
        "#@title GPU Check\n",
        "!nvidia-smi"
      ],
      "metadata": {
        "id": "mP6nVDiGakcS",
        "cellView": "form",
        "colab": {
          "base_uri": "https://localhost:8080/"
        },
        "outputId": "69ac03e3-7db0-4ae4-9f44-2eed8e9e1645"
      },
      "execution_count": 1,
      "outputs": [
        {
          "output_type": "stream",
          "name": "stdout",
          "text": [
            "/bin/bash: nvidia-smi: command not found\n"
          ]
        }
      ]
    },
    {
      "cell_type": "code",
      "source": [
        "#@title Install Dependencies (and load your cached install if it exists to boost times)\n",
        "# Required Libraries\n",
        "import os\n",
        "import csv\n",
        "import shutil\n",
        "import tarfile\n",
        "import subprocess\n",
        "from pathlib import Path\n",
        "from datetime import datetime\n",
        "\n",
        "#@markdown This will forcefully update dependencies even after the initial install seemed to have functioned.\n",
        "ForceUpdateDependencies = False #@param{type:\"boolean\"}\n",
        "#@markdown This will force temporary storage to be used, so it will download dependencies every time instead of on Drive. Not needed, unless you really want that 160mb storage. (Turned on by default for non-training colab to boost the initial launch speed)\n",
        "ForceTemporaryStorage = True #@param{type:\"boolean\"}\n",
        "\n",
        "# Mounting Google Drive\n",
        "if not ForceTemporaryStorage:\n",
        "    from google.colab import drive\n",
        "\n",
        "    if not os.path.exists('/content/drive'):\n",
        "        drive.mount('/content/drive')\n",
        "    else:\n",
        "        print('Drive is already mounted. Proceeding...')\n",
        "\n",
        "# Function to install dependencies with progress\n",
        "def install_packages():\n",
        "    packages = ['build-essential', 'python3-dev', 'ffmpeg', 'aria2']\n",
        "    pip_packages = ['pip', 'setuptools', 'wheel', 'httpx==0.23.0', 'faiss-gpu', 'fairseq', 'gradio==3.34.0',\n",
        "                    'ffmpeg', 'ffmpeg-python', 'praat-parselmouth', 'pyworld', 'numpy==1.23.5',\n",
        "                    'numba==0.56.4', 'librosa==0.9.2', 'mega.py', 'gdown', 'onnxruntime', 'pyngrok==4.1.12']\n",
        "\n",
        "    print(\"Updating and installing system packages...\")\n",
        "    for package in packages:\n",
        "        print(f\"Installing {package}...\")\n",
        "        subprocess.check_call(['apt-get', 'install', '-qq', '-y', package])\n",
        "\n",
        "    print(\"Updating and installing pip packages...\")\n",
        "    subprocess.check_call(['pip', 'install', '--upgrade'] + pip_packages)\n",
        "\n",
        "    print('Packages up to date.')\n",
        "\n",
        "# Function to scan a directory and writes filenames and timestamps\n",
        "def scan_and_write(base_path, output_file):\n",
        "    with open(output_file, 'w', newline='') as f:\n",
        "        writer = csv.writer(f)\n",
        "        for dirpath, dirs, files in os.walk(base_path):\n",
        "            for filename in files:\n",
        "                fname = os.path.join(dirpath, filename)\n",
        "                try:\n",
        "                    mtime = os.path.getmtime(fname)\n",
        "                    writer.writerow([fname, mtime])\n",
        "                except Exception as e:\n",
        "                    print(f'Skipping irrelevant nonexistent file {fname}: {str(e)}')\n",
        "    print(f'Finished recording filesystem timestamps to {output_file}.')\n",
        "\n",
        "# Function to compare files\n",
        "def compare_files(old_file, new_file):\n",
        "    old_files = {}\n",
        "    new_files = {}\n",
        "\n",
        "    with open(old_file, 'r') as f:\n",
        "        reader = csv.reader(f)\n",
        "        old_files = {rows[0]:rows[1] for rows in reader}\n",
        "\n",
        "    with open(new_file, 'r') as f:\n",
        "        reader = csv.reader(f)\n",
        "        new_files = {rows[0]:rows[1] for rows in reader}\n",
        "\n",
        "    removed_files = old_files.keys() - new_files.keys()\n",
        "    added_files = new_files.keys() - old_files.keys()\n",
        "    unchanged_files = old_files.keys() & new_files.keys()\n",
        "\n",
        "    changed_files = {f for f in unchanged_files if old_files[f] != new_files[f]}\n",
        "\n",
        "    for file in removed_files:\n",
        "        print(f'File has been removed: {file}')\n",
        "\n",
        "    for file in changed_files:\n",
        "        print(f'File has been updated: {file}')\n",
        "\n",
        "    return list(added_files) + list(changed_files)\n",
        "\n",
        "# Check if CachedRVC.tar.gz exists\n",
        "if ForceTemporaryStorage:\n",
        "    file_path = '/content/CachedRVC.tar.gz'\n",
        "else:\n",
        "    file_path = '/content/drive/MyDrive/RVC_Cached/CachedRVC.tar.gz'\n",
        "\n",
        "content_file_path = '/content/CachedRVC.tar.gz'\n",
        "extract_path = '/'\n",
        "\n",
        "if not os.path.exists(file_path):\n",
        "    folder_path = os.path.dirname(file_path)\n",
        "    os.makedirs(folder_path, exist_ok=True)\n",
        "    print('No cached dependency install found. Attempting to download GitHub backup..')\n",
        "\n",
        "    try:\n",
        "        download_url = \"https://github.com/kalomaze/QuickMangioFixes/releases/download/release3/CachedRVC.tar.gz\"\n",
        "        !wget -O $file_path $download_url\n",
        "        print('Download completed successfully!')\n",
        "    except Exception as e:\n",
        "        print('Download failed:', str(e))\n",
        "\n",
        "        # Delete the failed download file\n",
        "        if os.path.exists(file_path):\n",
        "            os.remove(file_path)\n",
        "        print('Failed download file deleted. Continuing manual backup..')\n",
        "\n",
        "if Path(file_path).exists():\n",
        "    if ForceTemporaryStorage:\n",
        "        print('Finished downloading CachedRVC.tar.gz.')\n",
        "    else:\n",
        "        print('CachedRVC.tar.gz found on Google Drive. Proceeding to copy and extract...')\n",
        "\n",
        "    # Check if ForceTemporaryStorage is True and skip copying if it is\n",
        "    if ForceTemporaryStorage:\n",
        "         pass\n",
        "    else:\n",
        "        shutil.copy(file_path, content_file_path)\n",
        "\n",
        "    print('Beginning backup copy operation...')\n",
        "\n",
        "    with tarfile.open(content_file_path, 'r:gz') as tar:\n",
        "        for member in tar.getmembers():\n",
        "            target_path = os.path.join(extract_path, member.name)\n",
        "            try:\n",
        "                tar.extract(member, extract_path)\n",
        "            except Exception as e:\n",
        "                print('Failed to extract a file (this isn\\'t normal)... forcing an update to compensate')\n",
        "                ForceUpdateDependencies = True\n",
        "        print(f'Extraction of {content_file_path} to {extract_path} completed.')\n",
        "\n",
        "    if ForceUpdateDependencies:\n",
        "        install_packages()\n",
        "        ForceUpdateDependencies = False\n",
        "else:\n",
        "    print('CachedRVC.tar.gz not found. Proceeding to create an index of all current files...')\n",
        "    scan_and_write('/usr/', '/content/usr_files.csv')\n",
        "\n",
        "    install_packages()\n",
        "\n",
        "    scan_and_write('/usr/', '/content/usr_files_new.csv')\n",
        "    changed_files = compare_files('/content/usr_files.csv', '/content/usr_files_new.csv')\n",
        "\n",
        "    with tarfile.open('/content/CachedRVC.tar.gz', 'w:gz') as new_tar:\n",
        "        for file in changed_files:\n",
        "            new_tar.add(file)\n",
        "            print(f'Added to tar: {file}')\n",
        "\n",
        "    os.makedirs('/content/drive/MyDrive/RVC_Cached', exist_ok=True)\n",
        "    shutil.copy('/content/CachedRVC.tar.gz', '/content/drive/MyDrive/RVC_Cached/CachedRVC.tar.gz')\n",
        "    print('Updated CachedRVC.tar.gz copied to Google Drive.')\n",
        "    print('Dependencies fully up to date; future runs should be faster.')"
      ],
      "metadata": {
        "id": "wjddIFr1oS3W",
        "colab": {
          "base_uri": "https://localhost:8080/",
          "height": 415
        },
        "outputId": "dba70c6f-ccb2-4105-db96-1e3722126088"
      },
      "execution_count": null,
      "outputs": [
        {
          "output_type": "stream",
          "name": "stdout",
          "text": [
            "Finished downloading CachedRVC.tar.gz.\n",
            "Beginning backup copy operation...\n"
          ]
        },
        {
          "output_type": "error",
          "ename": "EOFError",
          "evalue": "ignored",
          "traceback": [
            "\u001b[0;31m---------------------------------------------------------------------------\u001b[0m",
            "\u001b[0;31mEOFError\u001b[0m                                  Traceback (most recent call last)",
            "\u001b[0;32m<ipython-input-4-96ea177c34a8>\u001b[0m in \u001b[0;36m<cell line: 109>\u001b[0;34m()\u001b[0m\n\u001b[1;32m    122\u001b[0m \u001b[0;34m\u001b[0m\u001b[0m\n\u001b[1;32m    123\u001b[0m     \u001b[0;32mwith\u001b[0m \u001b[0mtarfile\u001b[0m\u001b[0;34m.\u001b[0m\u001b[0mopen\u001b[0m\u001b[0;34m(\u001b[0m\u001b[0mcontent_file_path\u001b[0m\u001b[0;34m,\u001b[0m \u001b[0;34m'r:gz'\u001b[0m\u001b[0;34m)\u001b[0m \u001b[0;32mas\u001b[0m \u001b[0mtar\u001b[0m\u001b[0;34m:\u001b[0m\u001b[0;34m\u001b[0m\u001b[0;34m\u001b[0m\u001b[0m\n\u001b[0;32m--> 124\u001b[0;31m         \u001b[0;32mfor\u001b[0m \u001b[0mmember\u001b[0m \u001b[0;32min\u001b[0m \u001b[0mtar\u001b[0m\u001b[0;34m.\u001b[0m\u001b[0mgetmembers\u001b[0m\u001b[0;34m(\u001b[0m\u001b[0;34m)\u001b[0m\u001b[0;34m:\u001b[0m\u001b[0;34m\u001b[0m\u001b[0;34m\u001b[0m\u001b[0m\n\u001b[0m\u001b[1;32m    125\u001b[0m             \u001b[0mtarget_path\u001b[0m \u001b[0;34m=\u001b[0m \u001b[0mos\u001b[0m\u001b[0;34m.\u001b[0m\u001b[0mpath\u001b[0m\u001b[0;34m.\u001b[0m\u001b[0mjoin\u001b[0m\u001b[0;34m(\u001b[0m\u001b[0mextract_path\u001b[0m\u001b[0;34m,\u001b[0m \u001b[0mmember\u001b[0m\u001b[0;34m.\u001b[0m\u001b[0mname\u001b[0m\u001b[0;34m)\u001b[0m\u001b[0;34m\u001b[0m\u001b[0;34m\u001b[0m\u001b[0m\n\u001b[1;32m    126\u001b[0m             \u001b[0;32mtry\u001b[0m\u001b[0;34m:\u001b[0m\u001b[0;34m\u001b[0m\u001b[0;34m\u001b[0m\u001b[0m\n",
            "\u001b[0;32m/usr/lib/python3.10/tarfile.py\u001b[0m in \u001b[0;36mgetmembers\u001b[0;34m(self)\u001b[0m\n\u001b[1;32m   1985\u001b[0m         \u001b[0mself\u001b[0m\u001b[0;34m.\u001b[0m\u001b[0m_check\u001b[0m\u001b[0;34m(\u001b[0m\u001b[0;34m)\u001b[0m\u001b[0;34m\u001b[0m\u001b[0;34m\u001b[0m\u001b[0m\n\u001b[1;32m   1986\u001b[0m         \u001b[0;32mif\u001b[0m \u001b[0;32mnot\u001b[0m \u001b[0mself\u001b[0m\u001b[0;34m.\u001b[0m\u001b[0m_loaded\u001b[0m\u001b[0;34m:\u001b[0m    \u001b[0;31m# if we want to obtain a list of\u001b[0m\u001b[0;34m\u001b[0m\u001b[0;34m\u001b[0m\u001b[0m\n\u001b[0;32m-> 1987\u001b[0;31m             \u001b[0mself\u001b[0m\u001b[0;34m.\u001b[0m\u001b[0m_load\u001b[0m\u001b[0;34m(\u001b[0m\u001b[0;34m)\u001b[0m        \u001b[0;31m# all members, we first have to\u001b[0m\u001b[0;34m\u001b[0m\u001b[0;34m\u001b[0m\u001b[0m\n\u001b[0m\u001b[1;32m   1988\u001b[0m                                 \u001b[0;31m# scan the whole archive.\u001b[0m\u001b[0;34m\u001b[0m\u001b[0;34m\u001b[0m\u001b[0m\n\u001b[1;32m   1989\u001b[0m         \u001b[0;32mreturn\u001b[0m \u001b[0mself\u001b[0m\u001b[0;34m.\u001b[0m\u001b[0mmembers\u001b[0m\u001b[0;34m\u001b[0m\u001b[0;34m\u001b[0m\u001b[0m\n",
            "\u001b[0;32m/usr/lib/python3.10/tarfile.py\u001b[0m in \u001b[0;36m_load\u001b[0;34m(self)\u001b[0m\n\u001b[1;32m   2680\u001b[0m         \"\"\"\n\u001b[1;32m   2681\u001b[0m         \u001b[0;32mwhile\u001b[0m \u001b[0;32mTrue\u001b[0m\u001b[0;34m:\u001b[0m\u001b[0;34m\u001b[0m\u001b[0;34m\u001b[0m\u001b[0m\n\u001b[0;32m-> 2682\u001b[0;31m             \u001b[0mtarinfo\u001b[0m \u001b[0;34m=\u001b[0m \u001b[0mself\u001b[0m\u001b[0;34m.\u001b[0m\u001b[0mnext\u001b[0m\u001b[0;34m(\u001b[0m\u001b[0;34m)\u001b[0m\u001b[0;34m\u001b[0m\u001b[0;34m\u001b[0m\u001b[0m\n\u001b[0m\u001b[1;32m   2683\u001b[0m             \u001b[0;32mif\u001b[0m \u001b[0mtarinfo\u001b[0m \u001b[0;32mis\u001b[0m \u001b[0;32mNone\u001b[0m\u001b[0;34m:\u001b[0m\u001b[0;34m\u001b[0m\u001b[0;34m\u001b[0m\u001b[0m\n\u001b[1;32m   2684\u001b[0m                 \u001b[0;32mbreak\u001b[0m\u001b[0;34m\u001b[0m\u001b[0;34m\u001b[0m\u001b[0m\n",
            "\u001b[0;32m/usr/lib/python3.10/tarfile.py\u001b[0m in \u001b[0;36mnext\u001b[0;34m(self)\u001b[0m\n\u001b[1;32m   2585\u001b[0m         \u001b[0;31m# Advance the file pointer.\u001b[0m\u001b[0;34m\u001b[0m\u001b[0;34m\u001b[0m\u001b[0m\n\u001b[1;32m   2586\u001b[0m         \u001b[0;32mif\u001b[0m \u001b[0mself\u001b[0m\u001b[0;34m.\u001b[0m\u001b[0moffset\u001b[0m \u001b[0;34m!=\u001b[0m \u001b[0mself\u001b[0m\u001b[0;34m.\u001b[0m\u001b[0mfileobj\u001b[0m\u001b[0;34m.\u001b[0m\u001b[0mtell\u001b[0m\u001b[0;34m(\u001b[0m\u001b[0;34m)\u001b[0m\u001b[0;34m:\u001b[0m\u001b[0;34m\u001b[0m\u001b[0;34m\u001b[0m\u001b[0m\n\u001b[0;32m-> 2587\u001b[0;31m             \u001b[0mself\u001b[0m\u001b[0;34m.\u001b[0m\u001b[0mfileobj\u001b[0m\u001b[0;34m.\u001b[0m\u001b[0mseek\u001b[0m\u001b[0;34m(\u001b[0m\u001b[0mself\u001b[0m\u001b[0;34m.\u001b[0m\u001b[0moffset\u001b[0m \u001b[0;34m-\u001b[0m \u001b[0;36m1\u001b[0m\u001b[0;34m)\u001b[0m\u001b[0;34m\u001b[0m\u001b[0;34m\u001b[0m\u001b[0m\n\u001b[0m\u001b[1;32m   2588\u001b[0m             \u001b[0;32mif\u001b[0m \u001b[0;32mnot\u001b[0m \u001b[0mself\u001b[0m\u001b[0;34m.\u001b[0m\u001b[0mfileobj\u001b[0m\u001b[0;34m.\u001b[0m\u001b[0mread\u001b[0m\u001b[0;34m(\u001b[0m\u001b[0;36m1\u001b[0m\u001b[0;34m)\u001b[0m\u001b[0;34m:\u001b[0m\u001b[0;34m\u001b[0m\u001b[0;34m\u001b[0m\u001b[0m\n\u001b[1;32m   2589\u001b[0m                 \u001b[0;32mraise\u001b[0m \u001b[0mReadError\u001b[0m\u001b[0;34m(\u001b[0m\u001b[0;34m\"unexpected end of data\"\u001b[0m\u001b[0;34m)\u001b[0m\u001b[0;34m\u001b[0m\u001b[0;34m\u001b[0m\u001b[0m\n",
            "\u001b[0;32m/usr/lib/python3.10/gzip.py\u001b[0m in \u001b[0;36mseek\u001b[0;34m(self, offset, whence)\u001b[0m\n\u001b[1;32m    391\u001b[0m         \u001b[0;32melif\u001b[0m \u001b[0mself\u001b[0m\u001b[0;34m.\u001b[0m\u001b[0mmode\u001b[0m \u001b[0;34m==\u001b[0m \u001b[0mREAD\u001b[0m\u001b[0;34m:\u001b[0m\u001b[0;34m\u001b[0m\u001b[0;34m\u001b[0m\u001b[0m\n\u001b[1;32m    392\u001b[0m             \u001b[0mself\u001b[0m\u001b[0;34m.\u001b[0m\u001b[0m_check_not_closed\u001b[0m\u001b[0;34m(\u001b[0m\u001b[0;34m)\u001b[0m\u001b[0;34m\u001b[0m\u001b[0;34m\u001b[0m\u001b[0m\n\u001b[0;32m--> 393\u001b[0;31m             \u001b[0;32mreturn\u001b[0m \u001b[0mself\u001b[0m\u001b[0;34m.\u001b[0m\u001b[0m_buffer\u001b[0m\u001b[0;34m.\u001b[0m\u001b[0mseek\u001b[0m\u001b[0;34m(\u001b[0m\u001b[0moffset\u001b[0m\u001b[0;34m,\u001b[0m \u001b[0mwhence\u001b[0m\u001b[0;34m)\u001b[0m\u001b[0;34m\u001b[0m\u001b[0;34m\u001b[0m\u001b[0m\n\u001b[0m\u001b[1;32m    394\u001b[0m \u001b[0;34m\u001b[0m\u001b[0m\n\u001b[1;32m    395\u001b[0m         \u001b[0;32mreturn\u001b[0m \u001b[0mself\u001b[0m\u001b[0;34m.\u001b[0m\u001b[0moffset\u001b[0m\u001b[0;34m\u001b[0m\u001b[0;34m\u001b[0m\u001b[0m\n",
            "\u001b[0;32m/usr/lib/python3.10/_compression.py\u001b[0m in \u001b[0;36mseek\u001b[0;34m(self, offset, whence)\u001b[0m\n\u001b[1;32m    151\u001b[0m         \u001b[0;31m# Read and discard data until we reach the desired position.\u001b[0m\u001b[0;34m\u001b[0m\u001b[0;34m\u001b[0m\u001b[0m\n\u001b[1;32m    152\u001b[0m         \u001b[0;32mwhile\u001b[0m \u001b[0moffset\u001b[0m \u001b[0;34m>\u001b[0m \u001b[0;36m0\u001b[0m\u001b[0;34m:\u001b[0m\u001b[0;34m\u001b[0m\u001b[0;34m\u001b[0m\u001b[0m\n\u001b[0;32m--> 153\u001b[0;31m             \u001b[0mdata\u001b[0m \u001b[0;34m=\u001b[0m \u001b[0mself\u001b[0m\u001b[0;34m.\u001b[0m\u001b[0mread\u001b[0m\u001b[0;34m(\u001b[0m\u001b[0mmin\u001b[0m\u001b[0;34m(\u001b[0m\u001b[0mio\u001b[0m\u001b[0;34m.\u001b[0m\u001b[0mDEFAULT_BUFFER_SIZE\u001b[0m\u001b[0;34m,\u001b[0m \u001b[0moffset\u001b[0m\u001b[0;34m)\u001b[0m\u001b[0;34m)\u001b[0m\u001b[0;34m\u001b[0m\u001b[0;34m\u001b[0m\u001b[0m\n\u001b[0m\u001b[1;32m    154\u001b[0m             \u001b[0;32mif\u001b[0m \u001b[0;32mnot\u001b[0m \u001b[0mdata\u001b[0m\u001b[0;34m:\u001b[0m\u001b[0;34m\u001b[0m\u001b[0;34m\u001b[0m\u001b[0m\n\u001b[1;32m    155\u001b[0m                 \u001b[0;32mbreak\u001b[0m\u001b[0;34m\u001b[0m\u001b[0;34m\u001b[0m\u001b[0m\n",
            "\u001b[0;32m/usr/lib/python3.10/gzip.py\u001b[0m in \u001b[0;36mread\u001b[0;34m(self, size)\u001b[0m\n\u001b[1;32m    505\u001b[0m                 \u001b[0;32mbreak\u001b[0m\u001b[0;34m\u001b[0m\u001b[0;34m\u001b[0m\u001b[0m\n\u001b[1;32m    506\u001b[0m             \u001b[0;32mif\u001b[0m \u001b[0mbuf\u001b[0m \u001b[0;34m==\u001b[0m \u001b[0;34mb\"\"\u001b[0m\u001b[0;34m:\u001b[0m\u001b[0;34m\u001b[0m\u001b[0;34m\u001b[0m\u001b[0m\n\u001b[0;32m--> 507\u001b[0;31m                 raise EOFError(\"Compressed file ended before the \"\n\u001b[0m\u001b[1;32m    508\u001b[0m                                \"end-of-stream marker was reached\")\n\u001b[1;32m    509\u001b[0m \u001b[0;34m\u001b[0m\u001b[0m\n",
            "\u001b[0;31mEOFError\u001b[0m: Compressed file ended before the end-of-stream marker was reached"
          ]
        }
      ]
    },
    {
      "cell_type": "code",
      "source": [
        "#@title Clone Github Repository\n",
        "import os\n",
        "\n",
        "# Change the current directory to /content/\n",
        "os.chdir('/content/')\n",
        "\n",
        "# Changes defaults of the infer-web.py\n",
        "def edit_file(file_path):\n",
        "    temp_file_path = \"/tmp/temp_file.py\"\n",
        "    changes_made = False\n",
        "    with open(file_path, \"r\") as file, open(temp_file_path, \"w\") as temp_file:\n",
        "        previous_line = \"\"\n",
        "        for line in file:\n",
        "            new_line = line.replace(\"value=160\", \"value=128\")\n",
        "            if new_line != line:\n",
        "                print(\"Replaced 'value=160' with 'value=128'\")\n",
        "                changes_made = True\n",
        "            line = new_line\n",
        "\n",
        "            new_line = line.replace(\"crepe hop length: 160\", \"crepe hop length: 128\")\n",
        "            if new_line != line:\n",
        "                print(\"Replaced 'crepe hop length: 160' with 'crepe hop length: 128'\")\n",
        "                changes_made = True\n",
        "            line = new_line\n",
        "\n",
        "            new_line = line.replace(\"value=0.88\", \"value=0.75\")\n",
        "            if new_line != line:\n",
        "                print(\"Replaced 'value=0.88' with 'value=0.75'\")\n",
        "                changes_made = True\n",
        "            line = new_line\n",
        "\n",
        "            if \"label=i18n(\\\"输入源音量包络替换输出音量包络融合比例，越靠近1越使用输出包络\\\")\" in previous_line and \"value=1,\" in line:\n",
        "                new_line = line.replace(\"value=1,\", \"value=0.25,\")\n",
        "                if new_line != line:\n",
        "                    print(\"Replaced 'value=1,' with 'value=0.25,' based on the condition\")\n",
        "                    changes_made = True\n",
        "                line = new_line\n",
        "\n",
        "            if 'choices=[\"pm\", \"harvest\", \"dio\", \"crepe\", \"crepe-tiny\", \"mangio-crepe\", \"mangio-crepe-tiny\"], # Fork Feature. Add Crepe-Tiny' in previous_line:\n",
        "                if 'value=\"pm\",' in line:\n",
        "                    new_line = line.replace('value=\"pm\",', 'value=\"mangio-crepe\",')\n",
        "                    if new_line != line:\n",
        "                        print(\"Replaced 'value=\\\"pm\\\",' with 'value=\\\"mangio-crepe\\\",' based on the condition\")\n",
        "                        changes_made = True\n",
        "                    line = new_line\n",
        "\n",
        "            temp_file.write(line)\n",
        "            previous_line = line\n",
        "\n",
        "    # After finished, we replace the original file with the temp one\n",
        "    import shutil\n",
        "    shutil.move(temp_file_path, file_path)\n",
        "\n",
        "    if changes_made:\n",
        "        print(\"Changes made and file saved successfully.\")\n",
        "    else:\n",
        "        print(\"No changes were needed.\")\n",
        "\n",
        "repo_path = '/content/Retrieval-based-Voice-Conversion-WebUI'\n",
        "if not os.path.exists(repo_path):\n",
        "    # Clone the latest code from the Mangio621/Mangio-RVC-Fork repository\n",
        "    !git clone https://github.com/Mangio621/Mangio-RVC-Fork.git\n",
        "    os.chdir('/content/Mangio-RVC-Fork')\n",
        "    !git checkout a5b45691957f7a4b2615bcc02ea453490023fac3\n",
        "    os.chdir('/content/')\n",
        "    !mv /content/Mangio-RVC-Fork /content/Retrieval-based-Voice-Conversion-WebUI\n",
        "    edit_file(\"/content/Retrieval-based-Voice-Conversion-WebUI/infer-web.py\")\n",
        "else:\n",
        "    print(f\"The repository already exists at {repo_path}. Skipping cloning.\")\n",
        "\n",
        "# Download the credentials file for RVC archive sheet\n",
        "!mkdir -p /content/Retrieval-based-Voice-Conversion-WebUI/stats/\n",
        "!wget -q https://cdn.discordapp.com/attachments/945486970883285045/1114717554481569802/peppy-generator-388800-07722f17a188.json -O /content/Retrieval-based-Voice-Conversion-WebUI/stats/peppy-generator-388800-07722f17a188.json\n",
        "\n",
        "# Forcefully delete any existing torchcrepe dependency from an earlier run\n",
        "!rm -rf /Retrieval-based-Voice-Conversion-WebUI/torchcrepe\n",
        "\n",
        "# Download the torchcrepe folder from the maxrmorrison/torchcrepe repository\n",
        "!git clone https://github.com/maxrmorrison/torchcrepe.git\n",
        "!mv torchcrepe/torchcrepe Retrieval-based-Voice-Conversion-WebUI/\n",
        "!rm -rf torchcrepe  # Delete the torchcrepe repository folder\n",
        "\n",
        "# Change the current directory to /content/Retrieval-based-Voice-Conversion-WebUI\n",
        "os.chdir('/content/Retrieval-based-Voice-Conversion-WebUI')\n",
        "!mkdir -p pretrained uvr5_weights"
      ],
      "metadata": {
        "id": "ge_97mfpgqTm",
        "cellView": "form"
      },
      "execution_count": null,
      "outputs": []
    },
    {
      "cell_type": "code",
      "source": [
        "#@title Download the Base Model\n",
        "#!aria2c --console-log-level=error -c -x 16 -s 16 -k 1M https://huggingface.co/lj1995/VoiceConversionWebUI/resolve/main/pretrained/D32k.pth -d /content/Retrieval-based-Voice-Conversion-WebUI/pretrained -o D32k.pth\n",
        "#!aria2c --console-log-level=error -c -x 16 -s 16 -k 1M https://huggingface.co/lj1995/VoiceConversionWebUI/resolve/main/pretrained/D40k.pth -d /content/Retrieval-based-Voice-Conversion-WebUI/pretrained -o D40k.pth\n",
        "#!aria2c --console-log-level=error -c -x 16 -s 16 -k 1M https://huggingface.co/lj1995/VoiceConversionWebUI/resolve/main/pretrained/D48k.pth -d /content/Retrieval-based-Voice-Conversion-WebUI/pretrained -o D48k.pth\n",
        "#!aria2c --console-log-level=error -c -x 16 -s 16 -k 1M https://huggingface.co/lj1995/VoiceConversionWebUI/resolve/main/pretrained/G32k.pth -d /content/Retrieval-based-Voice-Conversion-WebUI/pretrained -o G32k.pth\n",
        "#!aria2c --console-log-level=error -c -x 16 -s 16 -k 1M https://huggingface.co/lj1995/VoiceConversionWebUI/resolve/main/pretrained/G40k.pth -d /content/Retrieval-based-Voice-Conversion-WebUI/pretrained -o G40k.pth\n",
        "#!aria2c --console-log-level=error -c -x 16 -s 16 -k 1M https://huggingface.co/lj1995/VoiceConversionWebUI/resolve/main/pretrained/G48k.pth -d /content/Retrieval-based-Voice-Conversion-WebUI/pretrained -o G48k.pth\n",
        "#!aria2c --console-log-level=error -c -x 16 -s 16 -k 1M https://huggingface.co/lj1995/VoiceConversionWebUI/resolve/main/pretrained/f0D32k.pth -d /content/Retrieval-based-Voice-Conversion-WebUI/pretrained -o f0D32k.pth\n",
        "#!aria2c --console-log-level=error -c -x 16 -s 16 -k 1M https://huggingface.co/lj1995/VoiceConversionWebUI/resolve/main/pretrained/f0D40k.pth -d /content/Retrieval-based-Voice-Conversion-WebUI/pretrained -o f0D40k.pth\n",
        "#!aria2c --console-log-level=error -c -x 16 -s 16 -k 1M https://huggingface.co/lj1995/VoiceConversionWebUI/resolve/main/pretrained/f0D48k.pth -d /content/Retrieval-based-Voice-Conversion-WebUI/pretrained -o f0D48k.pth\n",
        "#!aria2c --console-log-level=error -c -x 16 -s 16 -k 1M https://huggingface.co/lj1995/VoiceConversionWebUI/resolve/main/pretrained/f0G32k.pth -d /content/Retrieval-based-Voice-Conversion-WebUI/pretrained -o f0G32k.pth\n",
        "#!aria2c --console-log-level=error -c -x 16 -s 16 -k 1M https://huggingface.co/lj1995/VoiceConversionWebUI/resolve/main/pretrained/f0G40k.pth -d /content/Retrieval-based-Voice-Conversion-WebUI/pretrained -o f0G40k.pth\n",
        "#!aria2c --console-log-level=error -c -x 16 -s 16 -k 1M https://huggingface.co/lj1995/VoiceConversionWebUI/resolve/main/pretrained/f0G48k.pth -d /content/Retrieval-based-Voice-Conversion-WebUI/pretrained -o f0G48k.pth\n",
        "\n",
        "#!aria2c --console-log-level=error -c -x 16 -s 16 -k 1M https://huggingface.co/lj1995/VoiceConversionWebUI/resolve/main/uvr5_weights/HP2-人声vocals+非人声instrumentals.pth -d /content/Retrieval-based-Voice-Conversion-WebUI/uvr5_weights -o HP2-人声vocals+非人声instrumentals.pth\n",
        "#!aria2c --console-log-level=error -c -x 16 -s 16 -k 1M https://huggingface.co/lj1995/VoiceConversionWebUI/resolve/main/uvr5_weights/HP5-主旋律人声vocals+其他instrumentals.pth -d /content/Retrieval-based-Voice-Conversion-WebUI/uvr5_weights -o HP5-主旋律人声vocals+其他instrumentals.pth\n",
        "\n",
        "!aria2c --console-log-level=error -c -x 16 -s 16 -k 1M https://huggingface.co/lj1995/VoiceConversionWebUI/resolve/main/hubert_base.pt -d /content/Retrieval-based-Voice-Conversion-WebUI -o hubert_base.pt"
      ],
      "metadata": {
        "id": "UG3XpUwEomUz",
        "cellView": "form"
      },
      "execution_count": null,
      "outputs": []
    },
    {
      "cell_type": "code",
      "source": [
        "#@markdown This will also create an RVC and dataset folders in your drive if they don't already exist.\n",
        "#from google.colab import drive\n",
        "#drive.mount('/content/drive', force_remount=True)"
      ],
      "metadata": {
        "id": "jwu07JgqoFON"
      },
      "execution_count": null,
      "outputs": []
    }
  ]
}